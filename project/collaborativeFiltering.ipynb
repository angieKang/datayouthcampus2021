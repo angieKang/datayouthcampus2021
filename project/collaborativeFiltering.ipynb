{
  "nbformat": 4,
  "nbformat_minor": 0,
  "metadata": {
    "colab": {
      "name": "collaborativeFiltering.ipynb",
      "provenance": [],
      "collapsed_sections": [],
      "toc_visible": true,
      "mount_file_id": "1u4PnRcWKdc89IZsEZLtF7sJbQ8nAGT1V",
      "authorship_tag": "ABX9TyM5OgTKpFWqK6hQdH6j1vBi",
      "include_colab_link": true
    },
    "kernelspec": {
      "name": "python3",
      "display_name": "Python 3"
    },
    "language_info": {
      "name": "python"
    }
  },
  "cells": [
    {
      "cell_type": "markdown",
      "metadata": {
        "id": "view-in-github",
        "colab_type": "text"
      },
      "source": [
        "<a href=\"https://colab.research.google.com/github/yuy8146/datayouthcampus2021/blob/master/project/collaborativeFiltering.ipynb\" target=\"_parent\"><img src=\"https://colab.research.google.com/assets/colab-badge.svg\" alt=\"Open In Colab\"/></a>"
      ]
    },
    {
      "cell_type": "markdown",
      "metadata": {
        "id": "HElU-qpu_P-K"
      },
      "source": [
        "# Collaborative filtering"
      ]
    },
    {
      "cell_type": "code",
      "metadata": {
        "id": "um3hruXN9rjW"
      },
      "source": [
        "import numpy as np\n",
        "import pandas as pd\n",
        "from tqdm import tqdm\n",
        "from sklearn.preprocessing import MinMaxScaler, StandardScaler, RobustScaler"
      ],
      "execution_count": 2,
      "outputs": []
    },
    {
      "cell_type": "code",
      "metadata": {
        "colab": {
          "base_uri": "https://localhost:8080/"
        },
        "id": "g0fTEPRzCQ5b",
        "outputId": "f0b09cf3-54bc-4255-ead7-ce29ec859763"
      },
      "source": [
        "from google.colab import drive\n",
        "drive.mount('/content/drive')"
      ],
      "execution_count": 3,
      "outputs": [
        {
          "output_type": "stream",
          "text": [
            "Drive already mounted at /content/drive; to attempt to forcibly remount, call drive.mount(\"/content/drive\", force_remount=True).\n"
          ],
          "name": "stdout"
        }
      ]
    },
    {
      "cell_type": "markdown",
      "metadata": {
        "id": "WFyVODfm9wW6"
      },
      "source": [
        "### 0. Read Dataset"
      ]
    },
    {
      "cell_type": "code",
      "metadata": {
        "id": "9IxaWZUp9u-K"
      },
      "source": [
        "#print(\"Read Dataset\")\n",
        "#purchase = pd.read_csv('C:/Users/User/PycharmProjects/collaborativeFiltering/dataset/purchase.csv')\n",
        "#purchase = pd.read_excel('C:/Users/User/PycharmProjects/collaborativeFiltering/dataset/purchase.xlsx', sheet_name = 'sample')"
      ],
      "execution_count": null,
      "outputs": []
    },
    {
      "cell_type": "code",
      "metadata": {
        "id": "po9Pz97UCn0g"
      },
      "source": [
        "purchase = pd.read_csv('/content/drive/MyDrive/worksoutProject/testdata200.csv')"
      ],
      "execution_count": 4,
      "outputs": []
    },
    {
      "cell_type": "markdown",
      "metadata": {
        "id": "Gpnw8uPD-Dan"
      },
      "source": [
        "### 1. preprocessing"
      ]
    },
    {
      "cell_type": "code",
      "metadata": {
        "id": "bDuHNTuj9vD3",
        "colab": {
          "base_uri": "https://localhost:8080/"
        },
        "outputId": "2f3e0979-dae0-4287-eea6-6a371cecdf8f"
      },
      "source": [
        "# 1차 카테고리 column 생성\n",
        "purchase.insert(2, 'CATEGORY1', purchase['CATEGORY2'].str[:2])\n",
        "\n",
        "#반품 row -> /2 처리\n",
        "purchase['수량'] = pd.to_numeric(purchase['수량'])\n",
        "purchase['re_qty'] = np.where(purchase['구매구분'] == '반품', purchase['수량']/2, purchase['수량'])\n",
        "\n",
        "#re_quntity 합계해서 5개에서 150개에 해당하는 고객 select\n",
        "Cudf = pd.DataFrame()\n",
        "sumCustomer = purchase.groupby('고객코드')['re_qty'].agg(**{'q_sum':'sum'}).reset_index()\n",
        "sumCustomer2 = sumCustomer[5<=sumCustomer.q_sum]\n",
        "selCustomer = sumCustomer2[sumCustomer2.q_sum<=150]\n",
        "selCustomer = selCustomer.rename(columns={\"고객코드\":\"customerCode\"}).reset_index()\n",
        "selCustomer = selCustomer.drop(['index'], axis=1)\n",
        "\n",
        "# select한 고객 df 기반으로 해당 고객 row만 select\n",
        "def customerFunction(i):\n",
        "    cust = purchase[purchase['고객코드'] == selCustomer.loc[i].customerCode]\n",
        "    global Cudf\n",
        "    Cudf = Cudf.append(cust, ignore_index=True)\n",
        "\n",
        "print(\"Preprocessing Start\")\n",
        "i = 0\n",
        "for i in tqdm(selCustomer.index):\n",
        "    customerFunction(i)\n",
        "    i = i + 1\n",
        "\n",
        "#필요없는 열 삭제, rename\n",
        "#Cudf=Cudf.drop(['SEASONGROUP명','YEAR명','구매매장명','품번2','카테고리0','카테고리1','CATEGORY2'], axis=1)\n",
        "Cudf.rename(columns={'고객코드':'customerCode','BRAND명':'BRAND' },inplace=True)\n",
        "\n",
        "#반품 열 삭제\n",
        "reData = Cudf[Cudf['구매구분'] != '반품']\n",
        "finalData = pd.DataFrame(columns=range(0))\n",
        "pc = finalData.append(reData,ignore_index=True)\n"
      ],
      "execution_count": 5,
      "outputs": [
        {
          "output_type": "stream",
          "text": [
            "Preprocessing Start\n"
          ],
          "name": "stdout"
        },
        {
          "output_type": "stream",
          "text": [
            "100%|██████████| 8/8 [00:00<00:00, 221.37it/s]\n"
          ],
          "name": "stderr"
        }
      ]
    },
    {
      "cell_type": "markdown",
      "metadata": {
        "id": "YJQLCcyx-LdL"
      },
      "source": [
        "### 2. make matrix"
      ]
    },
    {
      "cell_type": "code",
      "metadata": {
        "id": "GziM9nZT-3U9"
      },
      "source": [
        "def makelayers(pc,exceptduplicates, attribute): #pc = purchase dataset\n",
        "\n",
        "    # 고객코드 추출\n",
        "    customercode = list(set(pc['customerCode']))\n",
        "    customercode.sort()\n",
        "    # 카테고리 추출\n",
        "    category = list(set(pc[attribute]))\n",
        "    category.sort()\n",
        "\n",
        "    # 행렬곱 위한 왼쪽 matrix 완성 (user x category)\n",
        "    # print(len(customercode), len(category))\n",
        "    array = [[0 for col in range(len(category))] for row in range(len(customercode))]   # 빈 matrix 준비\n",
        "\n",
        "    #구매갯수만큼 채워넣기\n",
        "    for i in tqdm(range(len(customercode))):\n",
        "        for j in range(len(category)):\n",
        "            array[i][j] = len(pc[(pc['customerCode']== customercode[i]) & (pc[attribute] == category[j])])\n",
        "\n",
        "    left = np.array(array)\n",
        "\n",
        "    #오른쪽\n",
        "    #행렬곱위한 오른쪽 matrix 완성 (item x category)\n",
        "    #onehotencoding_c=pd.get_dummies(pc[[attribute]], columns = [attribute])\n",
        "    onehotencoding_c=pd.get_dummies(exceptduplicates[[attribute]], columns = [attribute])\n",
        "    right = np.array(onehotencoding_c)\n",
        "\n",
        "    #행렬곱하여 최종 matrix 완성\n",
        "    final = np.matmul(left, np.transpose(right))\n",
        "    #final.shape\n",
        "\n",
        "    return final"
      ],
      "execution_count": 6,
      "outputs": []
    },
    {
      "cell_type": "code",
      "metadata": {
        "id": "IfnwYhGd9vJ1",
        "colab": {
          "base_uri": "https://localhost:8080/"
        },
        "outputId": "bf66ce4e-1910-4588-b154-54af053affa6"
      },
      "source": [
        "exceptduplicates = pc.drop_duplicates(['품번'])   #중복 제품 삭제\n",
        "#exceptduplicates.insert(2, 'CATEGORY1', pc['CATEGORY2'].str[:2])\n",
        "\n",
        "# 품번 추출\n",
        "itemcode = list(exceptduplicates['품번'])\n",
        "# 고객코드 추출\n",
        "customercode = list(set(pc['customerCode']))\n",
        "customercode.sort()\n",
        "\n",
        "#행렬곱한 layer들 생성\n",
        "print(\"\\n** brand matrix **\")\n",
        "brandmatrix = makelayers(pc,exceptduplicates, 'BRAND')\n",
        "\n",
        "print(\"\\n** category matrix **\")\n",
        "categorymatrix = makelayers(pc, exceptduplicates, 'CATEGORY1')\n",
        "\n",
        "print(\"\\n** color matrix **\")\n",
        "colormatrix = makelayers(pc,exceptduplicates, '색상')\n"
      ],
      "execution_count": 7,
      "outputs": [
        {
          "output_type": "stream",
          "text": [
            "\n",
            "** brand matrix **\n"
          ],
          "name": "stdout"
        },
        {
          "output_type": "stream",
          "text": [
            "100%|██████████| 8/8 [00:00<00:00, 128.21it/s]\n"
          ],
          "name": "stderr"
        },
        {
          "output_type": "stream",
          "text": [
            "\n",
            "** category matrix **\n"
          ],
          "name": "stdout"
        },
        {
          "output_type": "stream",
          "text": [
            "100%|██████████| 8/8 [00:00<00:00, 108.12it/s]\n"
          ],
          "name": "stderr"
        },
        {
          "output_type": "stream",
          "text": [
            "\n",
            "** color matrix **\n"
          ],
          "name": "stdout"
        },
        {
          "output_type": "stream",
          "text": [
            "100%|██████████| 8/8 [00:00<00:00, 122.87it/s]\n"
          ],
          "name": "stderr"
        }
      ]
    },
    {
      "cell_type": "markdown",
      "metadata": {
        "id": "bbBnbKdH-Nk2"
      },
      "source": [
        "### 3. nomalization"
      ]
    },
    {
      "cell_type": "code",
      "metadata": {
        "id": "CRZUz2XS9vPp"
      },
      "source": [
        "scaler = StandardScaler()\n",
        "\n",
        "# column별로 scalar 되기에 transpose 해줌.\n",
        "scaled_brandmatrix_T = scaler.fit_transform(brandmatrix.T)\n",
        "scaled_categorymatrix_T = scaler.fit_transform(categorymatrix.T)\n",
        "scaled_colormatrix_T = scaler.fit_transform(colormatrix.T)\n",
        "\n",
        "scaled_brandmatrix = scaled_brandmatrix_T.T\n",
        "scaled_categorymatrix = scaled_categorymatrix_T.T\n",
        "scaled_colormatrix = scaled_colormatrix_T.T"
      ],
      "execution_count": 8,
      "outputs": []
    },
    {
      "cell_type": "markdown",
      "metadata": {
        "id": "cDDzunxm-N3I"
      },
      "source": [
        "### 4. weighted sum"
      ]
    },
    {
      "cell_type": "code",
      "metadata": {
        "id": "hPsDpkkW9vUd",
        "colab": {
          "base_uri": "https://localhost:8080/"
        },
        "outputId": "0f80e847-dccf-416d-c68c-005aca0a2e89"
      },
      "source": [
        "# R= (1.293 * scaled_brandmatrix) + (1.221 * scaled_categorymatrix) + scaled_colormatrix\n",
        "R= (1.293 * scaled_brandmatrix) + (1.221 * scaled_categorymatrix)\n",
        "   #+ scaled_colormatrix\n",
        "\n",
        "print(\"\\n** result ** \\n\", R)\n",
        "print(\"shape: \", R.shape)\n",
        "np.savetxt('beforescalar.csv',R, fmt= '%f', delimiter=\",\")\n",
        "\n",
        "Scaler = RobustScaler()\n",
        "scaled_result = Scaler.fit_transform(R.T)\n",
        "R = scaled_result.T\n",
        "np.savetxt('afterscalar.csv',R, fmt= '%f', delimiter=\",\")\n",
        "\n",
        "#print(\"\\n** customercode ** \\n\", customercode)\n",
        "#print(\"length: \", len(customercode))\n",
        "#print(\"\\n** itemcode ** \\n\", itemcode)\n",
        "#print(\"length: \", len(itemcode))"
      ],
      "execution_count": 9,
      "outputs": [
        {
          "output_type": "stream",
          "text": [
            "\n",
            "** result ** \n",
            " [[ 3.24403986  3.94321481  3.94321481  5.3799945   5.3799945  -0.32869446\n",
            "  -0.32869446 -1.76547414 -0.32869446 -1.76547414  1.10808522 -1.76547414\n",
            "  -1.76547414  1.10808522  1.10808522  1.10808522 -1.76547414 -1.76547414\n",
            "  -1.76547414 -1.76547414  1.10808522 -1.76547414  1.10808522  1.10808522\n",
            "   1.10808522  1.10808522 -1.76547414 -0.32869446 -1.76547414 -1.76547414\n",
            "  -1.76547414 -1.76547414 -0.32869446  1.10808522 -1.76547414 -1.76547414\n",
            "  -1.76547414 -0.32869446 -0.32869446 -0.32869446 -0.32869446]\n",
            " [-1.51087806  1.46809911 -1.51087806 -0.91508263 -0.91508263  3.48335099\n",
            "   3.48335099  3.11542113  5.49860286  3.11542113  3.11542113 -0.91508263\n",
            "  -0.91508263 -1.51087806 -1.51087806 -0.91508263 -0.91508263 -1.51087806\n",
            "  -1.51087806 -1.51087806 -1.51087806 -1.51087806 -0.91508263 -1.51087806\n",
            "  -1.51087806 -1.51087806 -1.51087806  1.46809911 -1.51087806 -1.51087806\n",
            "  -1.51087806 -1.51087806  1.46809911 -1.51087806  0.50437382  0.50437382\n",
            "   0.50437382  1.46809911  1.46809911  1.46809911  1.46809911]\n",
            " [ 0.0675589  -2.34379462 -2.34379462 -1.13811786 -1.13811786 -2.34379462\n",
            "  -2.34379462 -2.34379462 -2.34379462  1.27323566 -1.13811786  3.87868247\n",
            "   3.87868247  2.67300571  2.67300571  1.46732895 -2.34379462 -2.34379462\n",
            "   0.26165219  0.26165219  2.67300571 -2.34379462 -1.13811786  2.67300571\n",
            "   2.67300571  2.67300571  0.26165219  0.26165219  0.26165219  0.26165219\n",
            "   0.26165219  0.26165219  0.26165219  2.67300571 -2.34379462 -2.34379462\n",
            "  -2.34379462  0.26165219  0.26165219  0.26165219  0.26165219]\n",
            " [-1.06710861 -2.8665141  -2.8665141  -1.06710861 -1.06710861 -2.8665141\n",
            "  -2.8665141  -1.06710861 -2.8665141  -2.8665141  -1.06710861 -0.10718296\n",
            "  -0.10718296  1.69222253  1.69222253  1.69222253 -0.14733157  1.65207392\n",
            "   1.69222253  3.49162801  1.69222253 -0.14733157 -0.14733157  1.69222253\n",
            "   1.69222253  1.69222253 -0.10718296 -0.10718296 -0.10718296 -0.10718296\n",
            "  -0.10718296  1.69222253 -0.10718296  1.69222253  0.73229687  0.73229687\n",
            "   0.73229687 -0.10718296 -0.10718296 -0.10718296 -0.10718296]\n",
            " [ 1.01827061 -2.06277095 -2.06277095 -2.06277095 -2.06277095 -2.06277095\n",
            "  -2.06277095 -2.06277095 -2.06277095 -2.06277095 -2.06277095  0.54267585\n",
            "   0.54267585  3.62371742  3.62371742  0.54267585 -2.06277095 -2.06277095\n",
            "   0.54267585  0.54267585  3.62371742 -2.06277095 -2.06277095  3.62371742\n",
            "   3.62371742  3.62371742  0.54267585  0.54267585  0.54267585  0.54267585\n",
            "   0.54267585  0.54267585  0.54267585  3.62371742 -2.06277095 -2.06277095\n",
            "  -2.06277095  0.54267585  0.54267585  0.54267585  0.54267585]\n",
            " [-1.43023283 -0.14450241 -2.71596325 -2.71596325 -2.71596325 -0.14450241\n",
            "  -0.14450241 -2.71596325 -0.14450241 -2.71596325 -2.71596325 -0.11051645\n",
            "  -0.11051645  1.17521397  1.17521397 -0.11051645 -2.71596325 -2.71596325\n",
            "  -0.11051645 -0.11051645  1.17521397 -1.43023283 -2.71596325  1.17521397\n",
            "   1.17521397  1.17521397  3.74667482  2.4609444   2.4609444   3.74667482\n",
            "   2.4609444   1.17521397  2.4609444   1.17521397 -2.71596325 -2.71596325\n",
            "  -2.71596325  2.4609444   2.4609444   2.4609444   2.4609444 ]\n",
            " [-0.88017561 -0.88017561 -0.88017561 -0.88017561 -0.88017561 -0.88017561\n",
            "   3.47746614 -0.88017561 -0.88017561 -0.88017561 -0.88017561 -0.88017561\n",
            "  -0.88017561 -0.88017561 -0.88017561 -0.88017561 -0.88017561  2.85115102\n",
            "  -0.88017561  2.85115102 -0.88017561 -0.88017561 -0.88017561 -0.88017561\n",
            "  -0.88017561 -0.88017561 -0.88017561 -0.88017561 -0.88017561 -0.88017561\n",
            "  -0.88017561 -0.88017561 -0.88017561 -0.88017561  7.20879278  7.20879278\n",
            "   7.20879278 -0.88017561 -0.88017561 -0.88017561 -0.88017561]\n",
            " [-2.15507351  0.68820023 -2.15507351 -2.15507351 -2.15507351  0.68820023\n",
            "   0.68820023 -2.15507351  0.68820023 -2.15507351 -2.15507351  0.4503733\n",
            "   0.4503733   0.4503733   0.4503733   0.4503733  -2.15507351 -2.15507351\n",
            "   0.4503733   0.4503733   0.4503733  -2.15507351 -2.15507351  0.4503733\n",
            "   0.4503733   0.4503733   0.4503733   3.29364703  0.4503733   0.4503733\n",
            "   0.4503733   0.4503733   3.29364703  0.4503733  -2.15507351 -2.15507351\n",
            "  -2.15507351  3.29364703  3.29364703  3.29364703  3.29364703]]\n",
            "shape:  (8, 41)\n"
          ],
          "name": "stdout"
        }
      ]
    },
    {
      "cell_type": "markdown",
      "metadata": {
        "id": "72ExPoge-O33"
      },
      "source": [
        "### 5. matrix factorization"
      ]
    },
    {
      "cell_type": "code",
      "metadata": {
        "id": "15T2A8AV_DdF"
      },
      "source": [
        "# Set up loss function\n",
        "# C: confidence matrix\n",
        "# P: binary rating matrix\n",
        "# X: user latent matrix\n",
        "# Y: item latent matrix\n",
        "# r_lambda: regularization lambda\n",
        "# xTy: predict matrix\n",
        "# Total_loss = (confidence_level * predict loss) + regularization loss\n",
        "\n",
        "def loss_function(C, P, xTy, X, Y, r_lambda):\n",
        "    predict_error = np.square(P - xTy)\n",
        "    confidence_error = np.sum(C * predict_error)\n",
        "    regularization = r_lambda * (np.sum(np.square(X)) + np.sum(np.square(Y)))\n",
        "    total_loss = confidence_error + regularization\n",
        "    return np.sum(predict_error), confidence_error, regularization, total_loss\n",
        "\n",
        "\n",
        "# Optimization Function for user and item\n",
        "# X[u] = (yTCuy + lambda*I)^-1yTCuy\n",
        "# Y[i] = (xTCix + lambda*I)^-1xTCix\n",
        "# two formula is the same when it changes X to Y and u to i\n",
        "\n",
        "def optimize_user(X, Y, C, P, nu, nf, r_lambda):\n",
        "    yT = np.transpose(Y)\n",
        "    for u in range(nu):\n",
        "        Cu = np.diag(C[u])\n",
        "        yT_Cu_y = np.matmul(np.matmul(yT, Cu), Y)\n",
        "        lI = np.dot(r_lambda, np.identity(nf))\n",
        "        yT_Cu_pu = np.matmul(np.matmul(yT, Cu), P[u])\n",
        "        X[u] = np.linalg.solve(yT_Cu_y + lI, yT_Cu_pu)\n",
        "\n",
        "def optimize_item(X, Y, C, P, ni, nf, r_lambda):\n",
        "    xT = np.transpose(X)\n",
        "    for i in range(ni):\n",
        "        Ci = np.diag(C[:, i])\n",
        "        xT_Ci_x = np.matmul(np.matmul(xT, Ci), X)\n",
        "        lI = np.dot(r_lambda, np.identity(nf))\n",
        "        xT_Ci_pi = np.matmul(np.matmul(xT, Ci), P[:, i])\n",
        "        Y[i] = np.linalg.solve(xT_Ci_x + lI, xT_Ci_pi)"
      ],
      "execution_count": 10,
      "outputs": []
    },
    {
      "cell_type": "code",
      "metadata": {
        "id": "zB3yxEzL9vZy",
        "colab": {
          "base_uri": "https://localhost:8080/"
        },
        "outputId": "145aa335-6f3c-4276-98ae-f8ee384a6ec2"
      },
      "source": [
        "# initialize parameters\n",
        "r_lambda = 40   # normalization parameter\n",
        "nf = 200        # dimension of latent vector of each user and item\n",
        "alpha = 40      # confidence level\n",
        "\n",
        "# R as the dataset (array)\n",
        "\n",
        "# initialize user and item latent factor matrix\n",
        "nu = R.shape[0] # number of users\n",
        "ni = R.shape[1] # number of items\n",
        "\n",
        "# initialize X and Y with very small values\n",
        "X = np.random.rand(nu, nf) * 0.01\n",
        "Y = np.random.rand(ni, nf) * 0.01\n",
        "\n",
        "# initialize Binary rating matrix P: convert original rating matrix R to P\n",
        "P = np.copy(R)\n",
        "P[P > 0] = 1\n",
        "\n",
        "# Initialize Confidence Matrix C\n",
        "C = 1 + alpha * R   # confidence level of certain rating data\n",
        "\n",
        "# Train\n",
        "predict_errors = []\n",
        "confidence_errors = []\n",
        "regularization_list = []\n",
        "total_losses = []\n",
        "\n",
        "EPOCH = 15\n",
        "for i in tqdm(range(EPOCH)):\n",
        "    if i != 0:\n",
        "        optimize_user(X, Y, C, P, nu, nf, r_lambda)\n",
        "        optimize_item(X, Y, C, P, ni, nf, r_lambda)\n",
        "    predict = np.matmul(X, np.transpose(Y))\n",
        "    predict_error, confidence_error, regularization, total_loss = loss_function(C, P, predict, X, Y, r_lambda)\n",
        "\n",
        "    predict_errors.append(predict_error)\n",
        "    confidence_errors.append(confidence_error)\n",
        "    regularization_list.append(regularization)\n",
        "    total_losses.append(total_loss)\n",
        "\n",
        "    print('\\n ----------------step %d----------------' % int(i+1))\n",
        "    print(\"predict error: %f\" % predict_error)\n",
        "    print(\"confidence error: %f\" % confidence_error)\n",
        "    print(\"regularization: %f\" % regularization)\n",
        "    print(\"total loss: %f\" % total_loss)\n",
        "\n",
        "predict = np.matmul(X, np.transpose(Y))\n",
        "#print('final predict')\n",
        "#np.set_printoptions(threshold=sys.maxsize)\n",
        "print([predict])\n",
        "np.savetxt('aftermf.csv',predict, fmt= '%f', delimiter=\",\")\n"
      ],
      "execution_count": 11,
      "outputs": [
        {
          "output_type": "stream",
          "text": [
            " 20%|██        | 3/15 [00:00<00:00, 21.91it/s]"
          ],
          "name": "stderr"
        },
        {
          "output_type": "stream",
          "text": [
            "\n",
            " ----------------step 1----------------\n",
            "predict error: 153.730861\n",
            "confidence error: 2469.925943\n",
            "regularization: 13.105357\n",
            "total loss: 2483.031300\n",
            "\n",
            " ----------------step 2----------------\n",
            "predict error: 5308.611227\n",
            "confidence error: -15131.056820\n",
            "regularization: 16694.930722\n",
            "total loss: 1563.873902\n",
            "\n",
            " ----------------step 3----------------\n",
            "predict error: 392.761815\n",
            "confidence error: -2344.837345\n",
            "regularization: 4998.754065\n",
            "total loss: 2653.916720\n"
          ],
          "name": "stdout"
        },
        {
          "output_type": "stream",
          "text": [
            "\r 40%|████      | 6/15 [00:00<00:00, 16.25it/s]"
          ],
          "name": "stderr"
        },
        {
          "output_type": "stream",
          "text": [
            "\n",
            " ----------------step 4----------------\n",
            "predict error: 395.546212\n",
            "confidence error: -177.572482\n",
            "regularization: 12096.394539\n",
            "total loss: 11918.822057\n",
            "\n",
            " ----------------step 5----------------\n",
            "predict error: 6152.151986\n",
            "confidence error: -53295.668676\n",
            "regularization: 53429.964587\n",
            "total loss: 134.295911\n",
            "\n",
            " ----------------step 6----------------\n",
            "predict error: 5010.392577\n",
            "confidence error: -8281.786507\n",
            "regularization: 1753268.424752\n",
            "total loss: 1744986.638245\n"
          ],
          "name": "stdout"
        },
        {
          "output_type": "stream",
          "text": [
            "\r 53%|█████▎    | 8/15 [00:00<00:00, 14.99it/s]"
          ],
          "name": "stderr"
        },
        {
          "output_type": "stream",
          "text": [
            "\n",
            " ----------------step 7----------------\n",
            "predict error: 1536.423575\n",
            "confidence error: -23965.926625\n",
            "regularization: 25022.263914\n",
            "total loss: 1056.337289\n",
            "\n",
            " ----------------step 8----------------\n",
            "predict error: 2159.054492\n",
            "confidence error: -8637.092274\n",
            "regularization: 41933.061993\n",
            "total loss: 33295.969719\n",
            "\n",
            " ----------------step 9----------------\n",
            "predict error: 2297.838868\n",
            "confidence error: -31226.467203\n",
            "regularization: 319492.374646\n",
            "total loss: 288265.907443\n"
          ],
          "name": "stdout"
        },
        {
          "output_type": "stream",
          "text": [
            " 80%|████████  | 12/15 [00:00<00:00, 13.33it/s]"
          ],
          "name": "stderr"
        },
        {
          "output_type": "stream",
          "text": [
            "\n",
            " ----------------step 10----------------\n",
            "predict error: 15169.064187\n",
            "confidence error: -75784.107329\n",
            "regularization: 67383.824983\n",
            "total loss: -8400.282346\n",
            "\n",
            " ----------------step 11----------------\n",
            "predict error: 15064.248587\n",
            "confidence error: -114716.832541\n",
            "regularization: 144575.763111\n",
            "total loss: 29858.930570\n",
            "\n",
            " ----------------step 12----------------\n",
            "predict error: 109260.815996\n",
            "confidence error: -2349428.471630\n",
            "regularization: 2288759.735507\n",
            "total loss: -60668.736124\n"
          ],
          "name": "stdout"
        },
        {
          "output_type": "stream",
          "text": [
            "100%|██████████| 15/15 [00:01<00:00, 14.08it/s]"
          ],
          "name": "stderr"
        },
        {
          "output_type": "stream",
          "text": [
            "\n",
            " ----------------step 13----------------\n",
            "predict error: 8154.829593\n",
            "confidence error: -34606.702105\n",
            "regularization: 264633.785665\n",
            "total loss: 230027.083559\n",
            "\n",
            " ----------------step 14----------------\n",
            "predict error: 940.241540\n",
            "confidence error: -1650.082428\n",
            "regularization: 3751.564405\n",
            "total loss: 2101.481977\n",
            "\n",
            " ----------------step 15----------------\n",
            "predict error: 562.704767\n",
            "confidence error: -3253.932797\n",
            "regularization: 55569.587856\n",
            "total loss: 52315.655059\n",
            "[array([[ 9.66412655e-01,  1.03026327e+00,  9.95545491e-01,\n",
            "         9.89961547e-01,  9.89961547e-01,  3.49464348e+00,\n",
            "         1.82904463e+00, -5.01731463e-01,  6.47027008e-01,\n",
            "        -2.98338135e-01,  1.01434112e+00, -4.96371657e-01,\n",
            "        -4.96371657e-01,  1.00195217e+00,  1.00195217e+00,\n",
            "         9.95911435e-01, -4.39476927e-01, -4.27187893e-01,\n",
            "        -5.06136849e-01, -4.20922192e-01,  1.00195217e+00,\n",
            "        -4.64466581e-01,  9.61086539e-01,  1.00195217e+00,\n",
            "         1.00195217e+00,  1.00195217e+00, -5.32374585e-01,\n",
            "         1.58490600e+00, -5.29664403e-01, -5.32374585e-01,\n",
            "        -5.29664403e-01, -5.24612749e-01,  1.58490600e+00,\n",
            "         1.00195217e+00, -3.82589448e-01, -3.82589448e-01,\n",
            "        -3.82589448e-01,  1.58490600e+00,  1.58490600e+00,\n",
            "         1.58490600e+00,  1.58490600e+00],\n",
            "       [ 1.02197529e+00,  1.54656935e+00,  7.82008876e-01,\n",
            "         6.91433325e-01,  6.91433325e-01,  3.80383457e+00,\n",
            "         4.04321962e+00,  6.75215373e-01,  1.53360022e-01,\n",
            "         7.52229271e-01,  7.63364270e-01, -2.84723316e-01,\n",
            "        -2.84723316e-01, -5.31533794e-01, -5.31533794e-01,\n",
            "        -2.61129818e-01,  6.52630289e-01,  6.82172938e-01,\n",
            "        -1.23934370e-02,  5.11632923e-02, -5.31533794e-01,\n",
            "         6.74006325e-01,  7.54959651e-01, -5.31533794e-01,\n",
            "        -5.31533794e-01, -5.31533794e-01, -2.14493710e-01,\n",
            "         2.62584996e-01, -1.90694439e-01, -2.14493710e-01,\n",
            "        -1.90694439e-01, -1.40377282e-01,  2.62584996e-01,\n",
            "        -5.31533794e-01,  1.56826808e-01,  1.56826808e-01,\n",
            "         1.56826808e-01,  2.62584996e-01,  2.62584996e-01,\n",
            "         2.62584996e-01,  2.62584996e-01],\n",
            "       [-1.81147468e+00, -2.83228324e+00, -1.04428132e+00,\n",
            "        -9.62809830e-01, -9.62809830e-01, -8.87368435e+00,\n",
            "        -9.38582303e+00, -7.33341984e-01,  9.03605616e-01,\n",
            "        -8.93886076e-01, -9.38210663e-01,  8.38755493e-01,\n",
            "         8.38755493e-01,  6.92136406e-01,  6.92136406e-01,\n",
            "         6.18169990e-01, -9.07692839e-01, -7.68603132e-01,\n",
            "        -8.67168812e-02,  5.64654732e-02,  6.92136406e-01,\n",
            "        -8.69976386e-01, -1.08302727e+00,  6.92136406e-01,\n",
            "         6.92136406e-01,  6.92136406e-01,  2.30351202e-01,\n",
            "        -5.96341903e-01,  2.03710615e-01,  2.30351202e-01,\n",
            "         2.03710615e-01,  1.66502633e-01, -5.96341903e-01,\n",
            "         6.92136406e-01,  3.11338671e-01,  3.11338671e-01,\n",
            "         3.11338671e-01, -5.96341903e-01, -5.96341903e-01,\n",
            "        -5.96341903e-01, -5.96341903e-01],\n",
            "       [-6.00837988e-01, -8.25321207e-01, -1.00032348e+00,\n",
            "        -6.41870443e-01, -6.41870443e-01, -7.23120551e-01,\n",
            "        -7.62292499e-01, -5.82029619e-01, -8.99182558e-01,\n",
            "        -1.13263725e+00, -5.59353654e-01, -2.15142970e-01,\n",
            "        -2.15142970e-01,  1.03506209e+00,  1.03506209e+00,\n",
            "         9.68412461e-01, -1.23157954e+00,  2.25824920e+00,\n",
            "         9.72689434e-01,  9.95114665e-01,  1.03506209e+00,\n",
            "        -1.12403181e+00, -1.16351059e+00,  1.03506209e+00,\n",
            "         1.03506209e+00,  1.03506209e+00,  1.69546160e+00,\n",
            "         2.39965750e-01,  1.53317480e+00,  1.69546160e+00,\n",
            "         1.53317480e+00,  1.05215156e+00,  2.39965750e-01,\n",
            "         1.03506209e+00,  5.59514896e+00,  5.59514896e+00,\n",
            "         5.59514896e+00,  2.39965750e-01,  2.39965750e-01,\n",
            "         2.39965750e-01,  2.39965750e-01],\n",
            "       [ 4.20265238e-01, -1.55224787e+00, -1.04763551e+00,\n",
            "        -9.81763654e-01, -9.81763654e-01, -2.84819394e+00,\n",
            "        -2.91041223e+00, -9.60603647e-01, -7.44830171e-01,\n",
            "        -5.97996588e-01, -1.03534208e+00, -1.14048312e+00,\n",
            "        -1.14048312e+00,  9.49526695e-01,  9.49526695e-01,\n",
            "        -7.15220688e-01, -9.85897619e-01, -6.12273429e-01,\n",
            "         1.79532545e-01, -3.66847968e-01,  9.49526695e-01,\n",
            "        -9.96854935e-01, -1.03847475e+00,  9.49526695e-01,\n",
            "         9.49526695e-01,  9.49526695e-01,  2.46416827e-01,\n",
            "         1.60339038e+00,  2.21866699e-01,  2.46416827e-01,\n",
            "         2.21866699e-01,  1.40165306e-01,  1.60339038e+00,\n",
            "         9.49526695e-01, -6.24875379e-02, -6.24875379e-02,\n",
            "        -6.24875379e-02,  1.60339038e+00,  1.60339038e+00,\n",
            "         1.60339038e+00,  1.60339038e+00],\n",
            "       [-1.16328112e+00, -1.11539190e+00, -7.86499651e-01,\n",
            "        -6.89747418e-01, -6.89747418e-01, -3.12568510e+00,\n",
            "        -2.50546618e+00, -4.77687939e-01,  1.75388199e-01,\n",
            "        -1.62593443e+00, -3.89951615e-01,  1.29838632e-01,\n",
            "         1.29838632e-01,  7.55205299e-01,  7.55205299e-01,\n",
            "         5.03539444e-01, -1.14362988e+00,  1.50469764e+00,\n",
            "         2.39750471e-01,  1.13470217e+00,  7.55205299e-01,\n",
            "        -9.71573095e-01, -1.01071365e+00,  7.55205299e-01,\n",
            "         7.55205299e-01,  7.55205299e-01,  7.75796460e-01,\n",
            "         4.91380108e-01,  6.98224375e-01,  7.75796460e-01,\n",
            "         6.98224375e-01,  5.08400954e-01,  4.91380108e-01,\n",
            "         7.55205299e-01,  3.14851746e+00,  3.14851746e+00,\n",
            "         3.14851746e+00,  4.91380108e-01,  4.91380108e-01,\n",
            "         4.91380108e-01,  4.91380108e-01],\n",
            "       [-3.01073463e-01,  7.88581431e-02, -8.85341174e-02,\n",
            "        -1.11972786e-01, -1.11972786e-01,  1.09392644e-02,\n",
            "         5.94176152e-01,  4.45729760e-02,  8.73883549e-02,\n",
            "        -5.58918795e-01,  5.56319206e-02,  2.85091592e-02,\n",
            "         2.85091592e-02,  3.25795603e-02,  3.25795603e-02,\n",
            "        -1.72405292e-03, -2.20326675e-01,  7.52355178e-01,\n",
            "         2.04926182e-02,  5.54874786e-01,  3.25795603e-02,\n",
            "        -1.38333081e-01, -1.89408390e-01,  3.25795603e-02,\n",
            "         3.25795603e-02,  3.25795603e-02,  1.56075208e-01,\n",
            "         2.12820268e-01,  1.42861014e-01,  1.56075208e-01,\n",
            "         1.42861014e-01,  1.19841025e-01,  2.12820268e-01,\n",
            "         3.25795603e-02,  9.33969447e-01,  9.33969447e-01,\n",
            "         9.33969447e-01,  2.12820268e-01,  2.12820268e-01,\n",
            "         2.12820268e-01,  2.12820268e-01],\n",
            "       [-1.26109113e+00, -2.42315946e+00, -1.01802658e+00,\n",
            "        -1.15068261e+00, -1.15068261e+00, -7.03558670e+00,\n",
            "        -6.90108817e+00, -1.08153857e+00,  5.67061866e-01,\n",
            "        -1.54717210e+00, -1.02672897e+00,  1.30284775e-03,\n",
            "         1.30284775e-03,  8.23781302e-01,  8.23781302e-01,\n",
            "        -3.85472134e-01, -1.10101759e+00, -1.79750344e+00,\n",
            "        -5.61156057e-01, -1.33434863e-01,  8.23781302e-01,\n",
            "        -1.06112227e+00, -1.05496201e+00,  8.23781302e-01,\n",
            "         8.23781302e-01,  8.23781302e-01, -4.91592567e-01,\n",
            "         8.84401114e-01, -4.54790532e-01, -4.91592567e-01,\n",
            "        -4.54790532e-01, -2.96577041e-01,  8.84401114e-01,\n",
            "         8.23781302e-01, -2.56714700e+00, -2.56714700e+00,\n",
            "        -2.56714700e+00,  8.84401114e-01,  8.84401114e-01,\n",
            "         8.84401114e-01,  8.84401114e-01]])]\n"
          ],
          "name": "stdout"
        },
        {
          "output_type": "stream",
          "text": [
            "\n"
          ],
          "name": "stderr"
        }
      ]
    },
    {
      "cell_type": "markdown",
      "metadata": {
        "id": "dOiID1mv-ilH"
      },
      "source": [
        "### 6. sorting\n"
      ]
    },
    {
      "cell_type": "code",
      "metadata": {
        "id": "Fr9bPUrR-iuH"
      },
      "source": [
        "# return index of sorting list\n",
        "sorted_result = [[0 for col in range(predict.shape[1])] for row in range(predict.shape[0])]   # null matrix\n",
        "for i in range(predict.shape[0]):\n",
        "    sorted_result[i] = sorted(range(len(predict[i])), key=lambda k: predict[i][k])\n",
        "\n",
        "sorted_result=np.array(sorted_result)\n",
        "#print(\"\\n** sorted_result **\")\n",
        "#print(sorted_result)\n",
        "\n",
        "#return item code\n",
        "sorted_result_item = [[0 for col in range(predict.shape[1])] for row in range(predict.shape[0])]   # null matrix\n",
        "for i in range(predict.shape[0]):\n",
        "    for j in range(predict.shape[1]):\n",
        "        #print(itemcode[sorted_result[i][j]])\n",
        "        sorted_result_item[i][j]= itemcode[sorted_result[i][j]]\n",
        "\n",
        "sorted_result_item = np.array(sorted_result_item)\n",
        "#print(\"\\n** item code **\")\n",
        "#print(sorted_result_item)\n",
        "\n",
        "##push 'sorted_result_item' into DB"
      ],
      "execution_count": 12,
      "outputs": []
    },
    {
      "cell_type": "code",
      "metadata": {
        "id": "ZRrKYtBt-lRQ"
      },
      "source": [
        "#(\"고객코드\",\"제품코드\" 나열하여 확인)\n",
        "customercode = np.array(customercode)\n",
        "customercode = customercode.reshape(len(customercode),1) #2차원 배열로 reshape\n",
        "concatenate = np.concatenate((customercode, sorted_result_item), axis=1) #열방향 (좌 -> 우)로 연결\n",
        "#print(hstack)\n",
        "np.savetxt('/content/drive/MyDrive/worksoutProject/sample.csv',concatenate, fmt= '%s', delimiter=\",\")"
      ],
      "execution_count": 14,
      "outputs": []
    },
    {
      "cell_type": "markdown",
      "metadata": {
        "id": "ieIMrRzI-jzG"
      },
      "source": [
        "### 7. select top-N\n"
      ]
    },
    {
      "cell_type": "code",
      "metadata": {
        "id": "qxZim1HU-kdj"
      },
      "source": [
        "##pull 'sorted_result_item' from DB\n",
        "\n",
        "#1.1. array에서 raffle 상품 제외\n",
        "#1.2. array에서 현재 판매하지 않는 상품 제외\n",
        "#1.3. 구매했었던 상품 제외\n",
        "#2. 앞에서부터 20개 출력\n",
        "#2.1. 만약 20개가 없다면 그 전까지만 출력하기\n",
        "#3."
      ],
      "execution_count": null,
      "outputs": []
    }
  ]
}