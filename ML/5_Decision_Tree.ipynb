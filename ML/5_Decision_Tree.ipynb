{
  "nbformat": 4,
  "nbformat_minor": 0,
  "metadata": {
    "colab": {
      "name": "5_Decision_Tree.ipynb의 사본",
      "provenance": [],
      "collapsed_sections": [],
      "include_colab_link": true
    },
    "kernelspec": {
      "name": "python3",
      "display_name": "Python 3"
    }
  },
  "cells": [
    {
      "cell_type": "markdown",
      "metadata": {
        "id": "view-in-github",
        "colab_type": "text"
      },
      "source": [
        "<a href=\"https://colab.research.google.com/github/yuy8146/datayouthcampus2021/blob/master/ML/5_Decision_Tree.ipynb\" target=\"_parent\"><img src=\"https://colab.research.google.com/assets/colab-badge.svg\" alt=\"Open In Colab\"/></a>"
      ]
    },
    {
      "cell_type": "markdown",
      "metadata": {
        "id": "pUIZG_1BrYzG"
      },
      "source": [
        "# 의사결정 나무 실습"
      ]
    },
    {
      "cell_type": "markdown",
      "metadata": {
        "id": "e4YWfayTrbyb"
      },
      "source": [
        "python의 scikit-learn 패키지를 이용해 의사결정 나무를 직접 실행해보자."
      ]
    },
    {
      "cell_type": "markdown",
      "metadata": {
        "id": "8Y3bfqwQreH9"
      },
      "source": [
        "### 데이터 불러오기 및 분할하기"
      ]
    },
    {
      "cell_type": "markdown",
      "metadata": {
        "id": "y6LQ-Lb8red3"
      },
      "source": [
        "로지스틱 회귀분석과 SVM 때 사용했던 [cancer dataset](https://scikit-learn.org/stable/datasets/index.html#breast-cancer-wisconsin-diagnostic-dataset)을 그대로 사용하자."
      ]
    },
    {
      "cell_type": "code",
      "metadata": {
        "id": "WOn-huzgrH2J",
        "colab": {
          "base_uri": "https://localhost:8080/"
        },
        "outputId": "74c2a885-6484-462f-d2d3-a0646c0ad45a"
      },
      "source": [
        "from sklearn import datasets\n",
        "import numpy as np\n",
        "data = datasets.load_breast_cancer()\n",
        "\n",
        "x = data['data']\n",
        "y = data['target']\n",
        "\n",
        "print(x.shape, y.shape)"
      ],
      "execution_count": null,
      "outputs": [
        {
          "output_type": "stream",
          "text": [
            "(569, 30) (569,)\n"
          ],
          "name": "stdout"
        }
      ]
    },
    {
      "cell_type": "code",
      "metadata": {
        "id": "RWF_aIjzrjVf",
        "colab": {
          "base_uri": "https://localhost:8080/"
        },
        "outputId": "2067dc75-dcec-400d-8a41-eb850cd5ab97"
      },
      "source": [
        "from sklearn.model_selection import train_test_split\n",
        "\n",
        "# 데이터 나누기 - 6:2:2 비율\n",
        "x_train, x_test, y_train, y_test = train_test_split(x, y, test_size=0.2, random_state=1)\n",
        "x_train, x_val, y_train, y_val = train_test_split(x_train, y_train, test_size=0.25, random_state=1)\n",
        "\n",
        "print(x_train.shape, x_val.shape, x_test.shape)"
      ],
      "execution_count": null,
      "outputs": [
        {
          "output_type": "stream",
          "text": [
            "(341, 30) (114, 30) (114, 30)\n"
          ],
          "name": "stdout"
        }
      ]
    },
    {
      "cell_type": "markdown",
      "metadata": {
        "id": "QS_-NUrorljq"
      },
      "source": [
        "### 모델 학습 및 평가하기"
      ]
    },
    {
      "cell_type": "markdown",
      "metadata": {
        "id": "uagZyL7jr3y5"
      },
      "source": [
        "Scikit-learn의 [DecisionTreeClassifier](https://scikit-learn.org/stable/modules/generated/sklearn.tree.DecisionTreeClassifier.html?highlight=decisiontree#sklearn.tree.DecisionTreeClassifier) 모델을 사용하면 수업 시간에 다루었던 의사결정 나무 모델을 만들어 볼 수 있다."
      ]
    },
    {
      "cell_type": "code",
      "metadata": {
        "id": "njebKs96rmm5"
      },
      "source": [
        "from sklearn.tree import DecisionTreeClassifier"
      ],
      "execution_count": null,
      "outputs": []
    },
    {
      "cell_type": "code",
      "metadata": {
        "id": "hCJDySnhsTon",
        "colab": {
          "base_uri": "https://localhost:8080/"
        },
        "outputId": "9c5667fd-95eb-47c8-bd10-496ef09ab173"
      },
      "source": [
        "# 의사결정 나무 모델 학습하기\n",
        "tree = DecisionTreeClassifier()\n",
        "tree.fit(x_train, y_train)"
      ],
      "execution_count": null,
      "outputs": [
        {
          "output_type": "execute_result",
          "data": {
            "text/plain": [
              "DecisionTreeClassifier(ccp_alpha=0.0, class_weight=None, criterion='gini',\n",
              "                       max_depth=None, max_features=None, max_leaf_nodes=None,\n",
              "                       min_impurity_decrease=0.0, min_impurity_split=None,\n",
              "                       min_samples_leaf=1, min_samples_split=2,\n",
              "                       min_weight_fraction_leaf=0.0, presort='deprecated',\n",
              "                       random_state=None, splitter='best')"
            ]
          },
          "metadata": {
            "tags": []
          },
          "execution_count": 4
        }
      ]
    },
    {
      "cell_type": "markdown",
      "metadata": {
        "id": "s7gxPNJSsbyc"
      },
      "source": [
        "학습 상태를 점검하기 위해 training과 validation data에 대한 정확도 및 confusion matrix를 확인해 보자. (실습!!)"
      ]
    },
    {
      "cell_type": "code",
      "metadata": {
        "id": "vMAKV3BXsk3P",
        "colab": {
          "base_uri": "https://localhost:8080/"
        },
        "outputId": "b0034613-ba7f-4a3f-ded7-cbe4fc90f381"
      },
      "source": [
        "# TODO: training accuracy 및 confusion matrix\n",
        "\n",
        "from sklearn.metrics import confusion_matrix, accuracy_score\n",
        "\n",
        "train_pred=tree.predict(x_train)\n",
        "print(\"accuracy: \", accuracy_score(y_train, train_pred))\n",
        "confusion_matrix(y_train, train_pred)"
      ],
      "execution_count": null,
      "outputs": [
        {
          "output_type": "stream",
          "text": [
            "accuracy:  1.0\n"
          ],
          "name": "stdout"
        },
        {
          "output_type": "execute_result",
          "data": {
            "text/plain": [
              "array([[130,   0],\n",
              "       [  0, 211]])"
            ]
          },
          "metadata": {
            "tags": []
          },
          "execution_count": 5
        }
      ]
    },
    {
      "cell_type": "code",
      "metadata": {
        "id": "fauAwKDosofr",
        "colab": {
          "base_uri": "https://localhost:8080/"
        },
        "outputId": "04c6ee9e-d882-4567-a2e2-14b5fe16792a"
      },
      "source": [
        "# TODO: validation accuracy 및 confusion matrix\n",
        "\n",
        "val_pred = tree.predict(x_val)\n",
        "print(\"accuracy: \", accuracy_score(y_val, val_pred))\n",
        "confusion_matrix(y_val, val_pred)"
      ],
      "execution_count": null,
      "outputs": [
        {
          "output_type": "stream",
          "text": [
            "accuracy:  0.9035087719298246\n"
          ],
          "name": "stdout"
        },
        {
          "output_type": "execute_result",
          "data": {
            "text/plain": [
              "array([[33,  7],\n",
              "       [ 4, 70]])"
            ]
          },
          "metadata": {
            "tags": []
          },
          "execution_count": 6
        }
      ]
    },
    {
      "cell_type": "markdown",
      "metadata": {
        "id": "KLDssLH2s8ft"
      },
      "source": [
        "수업 시간에 배웠던 내용을 떠올리며, training과 validation 성능의 차이를 줄일 수 있는 간단한 방법을 생각해 보자."
      ]
    },
    {
      "cell_type": "code",
      "metadata": {
        "id": "7fZJwXDY5o8H",
        "colab": {
          "base_uri": "https://localhost:8080/",
          "height": 387
        },
        "outputId": "565dc260-4ba2-4cd0-f7bc-e2e16f66a31c"
      },
      "source": [
        "# TODO: 보다 좋은 의사결정 나무 모델 만들기\n",
        "import seaborn as sns\n",
        "\n",
        "new_tree = DecisionTreeClassifier(max_depth=4, min_samples_leaf=3) \n",
        "new_tree.fit(x_train, y_train)\n",
        "\n",
        "new_train_pred = new_tree.predict(x_train)\n",
        "print(\"train accuracy: \", accuracy_score(y_train, train_pred))\n",
        "print(confusion_matrix(y_train, train_pred))\n",
        "\n",
        "new_val_pred = new_tree.predict(x_val)\n",
        "print(\"vali accuracy: \", accuracy_score(y_val, new_val_pred))\n",
        "mat = confusion_matrix(y_val, new_val_pred)\n",
        "print(mat)\n",
        "sns.heatmap(mat, square=True, annot=True, fmt='d', cbar=False)"
      ],
      "execution_count": null,
      "outputs": [
        {
          "output_type": "stream",
          "text": [
            "train accuracy:  1.0\n",
            "[[130   0]\n",
            " [  0 211]]\n",
            "vali accuracy:  0.9473684210526315\n",
            "[[38  2]\n",
            " [ 4 70]]\n"
          ],
          "name": "stdout"
        },
        {
          "output_type": "execute_result",
          "data": {
            "text/plain": [
              "<matplotlib.axes._subplots.AxesSubplot at 0x7f8a3e966cd0>"
            ]
          },
          "metadata": {
            "tags": []
          },
          "execution_count": 7
        },
        {
          "output_type": "display_data",
          "data": {
            "image/png": "[encoded data removed]",
            "text/plain": [
              "<Figure size 432x288 with 1 Axes>"
            ]
          },
          "metadata": {
            "tags": [],
            "needs_background": "light"
          }
        }
      ]
    },
    {
      "cell_type": "code",
      "metadata": {
        "id": "_YQuFV87FWTK"
      },
      "source": [
        ""
      ],
      "execution_count": null,
      "outputs": []
    }
  ]
}